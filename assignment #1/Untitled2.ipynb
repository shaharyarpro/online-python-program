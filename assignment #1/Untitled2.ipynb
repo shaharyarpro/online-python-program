{
 "cells": [
  {
   "cell_type": "code",
   "execution_count": 2,
   "id": "07ffedcf",
   "metadata": {},
   "outputs": [
    {
     "name": "stdout",
     "output_type": "stream",
     "text": [
      "7\n"
     ]
    }
   ],
   "source": [
    "a=3;\n",
    "b=4;\n",
    "c=a+b;\n",
    "print(c);"
   ]
  },
  {
   "cell_type": "code",
   "execution_count": 4,
   "id": "f60b2788",
   "metadata": {},
   "outputs": [
    {
     "name": "stdout",
     "output_type": "stream",
     "text": [
      "1\n"
     ]
    }
   ],
   "source": [
    "a=4;\n",
    "a=+1;\n",
    "print(a);"
   ]
  },
  {
   "cell_type": "code",
   "execution_count": 5,
   "id": "17573a3f",
   "metadata": {},
   "outputs": [
    {
     "name": "stdout",
     "output_type": "stream",
     "text": [
      "5\n"
     ]
    }
   ],
   "source": [
    "x=4;\n",
    "y=x+1;\n",
    "print(y);"
   ]
  },
  {
   "cell_type": "code",
   "execution_count": 16,
   "id": "abc349e2",
   "metadata": {},
   "outputs": [
    {
     "name": "stdout",
     "output_type": "stream",
     "text": [
      "FAIL\n"
     ]
    }
   ],
   "source": [
    "percent=70;\n",
    "if percent< 100 and percent >80:\n",
    "    print(\"Aone\");\n",
    "elif percent < 80 and percent >70:\n",
    "    print(\"A\");\n",
    "elif percent < 70 and percent > 60:\n",
    "    print(\"B\");\n",
    "elif percent < 60 and percent > 50:\n",
    "    print(\"C\");\n",
    "elif percent < 50 and percent > 30:\n",
    "    print(\"D\");\n",
    "else:\n",
    "   print(\"FAIL\");"
   ]
  },
  {
   "cell_type": "code",
   "execution_count": null,
   "id": "40c072d3",
   "metadata": {},
   "outputs": [],
   "source": []
  },
  {
   "cell_type": "code",
   "execution_count": null,
   "id": "b608c199",
   "metadata": {},
   "outputs": [],
   "source": []
  }
 ],
 "metadata": {
  "kernelspec": {
   "display_name": "Python 3",
   "language": "python",
   "name": "python3"
  },
  "language_info": {
   "codemirror_mode": {
    "name": "ipython",
    "version": 3
   },
   "file_extension": ".py",
   "mimetype": "text/x-python",
   "name": "python",
   "nbconvert_exporter": "python",
   "pygments_lexer": "ipython3",
   "version": "3.8.8"
  }
 },
 "nbformat": 4,
 "nbformat_minor": 5
}
