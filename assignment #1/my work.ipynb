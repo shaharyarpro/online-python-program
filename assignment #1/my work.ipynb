{
 "cells": [
  {
   "cell_type": "code",
   "execution_count": 2,
   "id": "2349a25a",
   "metadata": {},
   "outputs": [
    {
     "name": "stdout",
     "output_type": "stream",
     "text": [
      "7\n"
     ]
    }
   ],
   "source": [
    "a=3;\n",
    "b=4;\n",
    "c=a+b;\n",
    "print(c);"
   ]
  },
  {
   "cell_type": "code",
   "execution_count": 4,
   "id": "4b92ce03",
   "metadata": {},
   "outputs": [
    {
     "name": "stdout",
     "output_type": "stream",
     "text": [
      "1\n"
     ]
    }
   ],
   "source": [
    "a=4;\n",
    "a=+1;\n",
    "print(a);"
   ]
  },
  {
   "cell_type": "code",
   "execution_count": 5,
   "id": "e6473fde",
   "metadata": {},
   "outputs": [
    {
     "name": "stdout",
     "output_type": "stream",
     "text": [
      "5\n"
     ]
    }
   ],
   "source": [
    "x=4;\n",
    "y=x+1;\n",
    "print(y);"
   ]
  },
  {
   "cell_type": "code",
   "execution_count": 25,
   "id": "ed4f5973",
   "metadata": {},
   "outputs": [
    {
     "name": "stdout",
     "output_type": "stream",
     "text": [
      "D\n"
     ]
    }
   ],
   "source": [
    "percent=35;\n",
    "if percent< 100 and percent >80:\n",
    "    print(\"Aone\");\n",
    "elif percent < 80 and percent >70:\n",
    "    print(\"A\");\n",
    "elif percent < 70 and percent > 60:\n",
    "    print(\"B\");\n",
    "elif percent < 60 and percent > 50:\n",
    "    print(\"C\");\n",
    "elif percent < 50 and percent > 30:\n",
    "    print(\"D\");\n",
    "else:\n",
    "   print(\"FAIL\");"
   ]
  },
  {
   "cell_type": "code",
   "execution_count": 5,
   "id": "0bf14f12",
   "metadata": {},
   "outputs": [
    {
     "name": "stdout",
     "output_type": "stream",
     "text": [
      "your otain marks=> 220\n",
      "your precentage=> 73.33333333333333\n",
      "your grade=> A\n"
     ]
    }
   ],
   "source": [
    "eng=62;\n",
    "isl=78\n",
    "maths=80;\n",
    "\n",
    "total=maths+isl+eng;\n",
    "print(\"your otain marks=>\",total);\n",
    "\n",
    "pre=(total*100)/300;\n",
    "print(\"your precentage=>\",pre);\n",
    "\n",
    "if (pre <100 and pre >80):\n",
    "    print(\"your grade=> Aone\");\n",
    "elif (pre <80 and pre >70):\n",
    "    print(\"your grade=> A\");\n",
    "elif (pre < 70 and pre >60):\n",
    "    print(\"your grade=> B\");\n",
    "elif (pre <60 and pre >50):\n",
    "    print(\"your grade=> c\");\n",
    "elif (pre <40 and pre >30):\n",
    "    print(\"your grade=> D\");\n",
    "else:\n",
    "    print(\"sorry your FAIL in this exam\");\n",
    "\n",
    "\n"
   ]
  },
  {
   "cell_type": "code",
   "execution_count": null,
   "id": "5ccced7e",
   "metadata": {},
   "outputs": [],
   "source": []
  },
  {
   "cell_type": "code",
   "execution_count": null,
   "id": "fb69c66f",
   "metadata": {},
   "outputs": [],
   "source": []
  }
 ],
 "metadata": {
  "kernelspec": {
   "display_name": "Python 3",
   "language": "python",
   "name": "python3"
  },
  "language_info": {
   "codemirror_mode": {
    "name": "ipython",
    "version": 3
   },
   "file_extension": ".py",
   "mimetype": "text/x-python",
   "name": "python",
   "nbconvert_exporter": "python",
   "pygments_lexer": "ipython3",
   "version": "3.8.8"
  }
 },
 "nbformat": 4,
 "nbformat_minor": 5
}
